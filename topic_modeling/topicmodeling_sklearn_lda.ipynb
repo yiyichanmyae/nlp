{
  "nbformat": 4,
  "nbformat_minor": 0,
  "metadata": {
    "colab": {
      "provenance": [],
      "authorship_tag": "ABX9TyNXtf4SLMCmjaDNB9aCT5kc",
      "include_colab_link": true
    },
    "kernelspec": {
      "name": "python3",
      "display_name": "Python 3"
    },
    "language_info": {
      "name": "python"
    }
  },
  "cells": [
    {
      "cell_type": "markdown",
      "metadata": {
        "id": "view-in-github",
        "colab_type": "text"
      },
      "source": [
        "<a href=\"https://colab.research.google.com/github/yiyichanmyae/nlp/blob/master/topic_modeling/topicmodeling_sklearn_lda.ipynb\" target=\"_parent\"><img src=\"https://colab.research.google.com/assets/colab-badge.svg\" alt=\"Open In Colab\"/></a>"
      ]
    },
    {
      "cell_type": "markdown",
      "source": [
        "# Testing LDA"
      ],
      "metadata": {
        "id": "RA3TGe7K7pq-"
      }
    },
    {
      "cell_type": "code",
      "execution_count": 3,
      "metadata": {
        "colab": {
          "base_uri": "https://localhost:8080/"
        },
        "id": "BEps0va33G2U",
        "outputId": "630dd3da-4c80-40c4-b9c9-15cf255cfc93"
      },
      "outputs": [
        {
          "output_type": "stream",
          "name": "stdout",
          "text": [
            "X  [[3. 1. 4. ... 4. 1. 3.]\n",
            " [5. 0. 6. ... 0. 0. 3.]\n",
            " [3. 4. 1. ... 3. 2. 5.]\n",
            " ...\n",
            " [2. 1. 2. ... 1. 0. 3.]\n",
            " [6. 4. 1. ... 1. 3. 5.]\n",
            " [2. 4. 2. ... 5. 4. 2.]]\n"
          ]
        },
        {
          "output_type": "execute_result",
          "data": {
            "text/plain": [
              "array([[0.00360392, 0.25499205, 0.0036211 , 0.64236448, 0.09541846],\n",
              "       [0.15297572, 0.00362644, 0.44412786, 0.39568399, 0.003586  ]])"
            ]
          },
          "metadata": {},
          "execution_count": 3
        }
      ],
      "source": [
        "from sklearn.decomposition import LatentDirichletAllocation\n",
        "from sklearn.datasets import make_multilabel_classification\n",
        "# This produces a feature matrix of token counts, similar to what\n",
        "# CountVectorizer would produce on text.\n",
        "X, _ = make_multilabel_classification(random_state=0)\n",
        "print('X ', X)\n",
        "lda = LatentDirichletAllocation(n_components=5,\n",
        "    random_state=0)\n",
        "lda.fit(X)"
      ]
    },
    {
      "cell_type": "code",
      "source": [
        "# parameter of the model\n",
        "lda.get_params()"
      ],
      "metadata": {
        "colab": {
          "base_uri": "https://localhost:8080/"
        },
        "id": "dhm2mBY73w3u",
        "outputId": "3c39855d-ac51-4eae-ccae-dac2aceeeef2"
      },
      "execution_count": 6,
      "outputs": [
        {
          "output_type": "execute_result",
          "data": {
            "text/plain": [
              "{'batch_size': 128,\n",
              " 'doc_topic_prior': None,\n",
              " 'evaluate_every': -1,\n",
              " 'learning_decay': 0.7,\n",
              " 'learning_method': 'batch',\n",
              " 'learning_offset': 10.0,\n",
              " 'max_doc_update_iter': 100,\n",
              " 'max_iter': 10,\n",
              " 'mean_change_tol': 0.001,\n",
              " 'n_components': 5,\n",
              " 'n_jobs': None,\n",
              " 'perp_tol': 0.1,\n",
              " 'random_state': 0,\n",
              " 'topic_word_prior': None,\n",
              " 'total_samples': 1000000.0,\n",
              " 'verbose': 0}"
            ]
          },
          "metadata": {},
          "execution_count": 6
        }
      ]
    },
    {
      "cell_type": "markdown",
      "source": [
        "\n",
        "`exp_dirichlet_component_`: ndarray of shape (n_components, n_features)\n",
        "\n",
        "Exponential value of expectation of log topic word distribution, exp(E[log(beta)])."
      ],
      "metadata": {
        "id": "yr5H4mhz5kaG"
      }
    },
    {
      "cell_type": "code",
      "source": [
        "lda.exp_dirichlet_component_ # topic_word distribution # sum of proba of words in each topic is 1\n",
        "\n",
        "# Word - Topic matrix, row -> Words, col -> Topics\n",
        "# Sum of each col is 1\n",
        "# sum of proba of words in each topic is 1"
      ],
      "metadata": {
        "colab": {
          "base_uri": "https://localhost:8080/"
        },
        "id": "hdBVY2-B4NEc",
        "outputId": "586b5c92-ebb5-4731-800e-aacb580ff124"
      },
      "execution_count": 13,
      "outputs": [
        {
          "output_type": "execute_result",
          "data": {
            "text/plain": [
              "array([[4.97209587e-02, 2.85722001e-02, 1.24055732e-01, 2.94524462e-02,\n",
              "        6.40366673e-02, 2.44372938e-02, 8.36726923e-02, 6.95774818e-02,\n",
              "        3.92165038e-02, 1.84552562e-02, 5.81279926e-02, 1.02552261e-02,\n",
              "        2.94789931e-02, 1.11000326e-01, 6.01823047e-03, 5.44681328e-02,\n",
              "        1.02319876e-01, 5.38839254e-02, 6.40629978e-05, 3.66615296e-02],\n",
              "       [2.38545422e-02, 8.04834437e-02, 1.22037416e-02, 8.87875097e-03,\n",
              "        4.19076100e-02, 5.86180323e-02, 1.58171370e-02, 2.32349139e-02,\n",
              "        1.09401977e-05, 1.29276978e-02, 1.46540356e-02, 2.97988130e-02,\n",
              "        1.42087955e-01, 1.07133797e-05, 3.94755452e-02, 4.94972937e-02,\n",
              "        5.97617092e-02, 1.15627847e-01, 1.27491551e-01, 1.27131084e-01],\n",
              "       [9.30704222e-02, 5.13120736e-02, 5.11223898e-03, 1.17665571e-01,\n",
              "        3.93013342e-03, 7.25750535e-02, 7.69149984e-02, 3.65726298e-02,\n",
              "        5.12141261e-02, 2.88702363e-02, 6.92335483e-02, 5.76437379e-06,\n",
              "        9.72383297e-02, 3.47676021e-02, 2.02523328e-02, 7.48632848e-02,\n",
              "        3.54322122e-02, 4.13292382e-02, 7.02622283e-02, 1.02991592e-02],\n",
              "       [8.66101635e-02, 7.39540974e-02, 3.33397387e-02, 7.41525499e-02,\n",
              "        1.00831032e-01, 4.53733471e-02, 8.05538677e-02, 3.70411330e-02,\n",
              "        3.20545394e-02, 8.21128100e-02, 1.57858849e-02, 2.15509186e-02,\n",
              "        1.49571712e-02, 1.07784400e-01, 2.65404799e-02, 1.35075346e-02,\n",
              "        1.48118164e-02, 3.28863520e-02, 1.71853272e-02, 8.30266365e-02],\n",
              "       [1.80572365e-03, 2.91192318e-02, 8.18965263e-02, 8.50669460e-02,\n",
              "        2.30722016e-03, 5.82151090e-02, 7.07872840e-03, 7.94883695e-02,\n",
              "        3.85621179e-02, 1.45949091e-01, 3.15776454e-02, 2.49532280e-01,\n",
              "        1.21535402e-03, 6.53697983e-03, 8.32987770e-02, 9.34229345e-03,\n",
              "        6.12314032e-03, 4.44292147e-03, 3.63416945e-04, 5.11332371e-02]])"
            ]
          },
          "metadata": {},
          "execution_count": 13
        }
      ]
    },
    {
      "cell_type": "markdown",
      "source": [
        "# "
      ],
      "metadata": {
        "id": "VIseC8K97u6_"
      }
    },
    {
      "cell_type": "code",
      "source": [
        "# get topics for some given samples:\n",
        "lda.transform(X[-2:]) # doc_topic distribution # sum of proba of Topics for each document is 1\n",
        "\n",
        "\n",
        "# Topic - Document matrix( row -> Topics, col -> Document )\n",
        "# Sum of each col is 1 \n",
        "# sum of proba of Topics for each document is 1"
      ],
      "metadata": {
        "colab": {
          "base_uri": "https://localhost:8080/"
        },
        "id": "Jy9LLhiy6b_e",
        "outputId": "d8af4983-f2c9-4324-d814-75108bb35a11"
      },
      "execution_count": 12,
      "outputs": [
        {
          "output_type": "execute_result",
          "data": {
            "text/plain": [
              "array([[0.00360392, 0.25499205, 0.0036211 , 0.64236448, 0.09541846],\n",
              "       [0.15297572, 0.00362644, 0.44412786, 0.39568399, 0.003586  ]])"
            ]
          },
          "metadata": {},
          "execution_count": 12
        }
      ]
    },
    {
      "cell_type": "code",
      "source": [],
      "metadata": {
        "id": "ApMcLAhn8F2x"
      },
      "execution_count": null,
      "outputs": []
    }
  ]
}