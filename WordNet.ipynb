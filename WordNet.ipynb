{
  "nbformat": 4,
  "nbformat_minor": 0,
  "metadata": {
    "colab": {
      "provenance": [],
      "authorship_tag": "ABX9TyOHhmyJA1aIX521OVzGdz+S",
      "include_colab_link": true
    },
    "kernelspec": {
      "name": "python3",
      "display_name": "Python 3"
    },
    "language_info": {
      "name": "python"
    }
  },
  "cells": [
    {
      "cell_type": "markdown",
      "metadata": {
        "id": "view-in-github",
        "colab_type": "text"
      },
      "source": [
        "<a href=\"https://colab.research.google.com/github/yiyichanmyae/nlp/blob/master/WordNet.ipynb\" target=\"_parent\"><img src=\"https://colab.research.google.com/assets/colab-badge.svg\" alt=\"Open In Colab\"/></a>"
      ]
    },
    {
      "cell_type": "code",
      "source": [
        "!pip install --user -U nltk"
      ],
      "metadata": {
        "colab": {
          "base_uri": "https://localhost:8080/"
        },
        "id": "AC49am1NRaPn",
        "outputId": "f64a5082-8102-49d1-c932-1d383af4eff0"
      },
      "execution_count": null,
      "outputs": [
        {
          "output_type": "stream",
          "name": "stdout",
          "text": [
            "Looking in indexes: https://pypi.org/simple, https://us-python.pkg.dev/colab-wheels/public/simple/\n",
            "Requirement already satisfied: nltk in /usr/local/lib/python3.8/dist-packages (3.7)\n",
            "Collecting nltk\n",
            "  Downloading nltk-3.8.1-py3-none-any.whl (1.5 MB)\n",
            "\u001b[2K     \u001b[90m━━━━━━━━━━━━━━━━━━━━━━━━━━━━━━━━━━━━━━━━\u001b[0m \u001b[32m1.5/1.5 MB\u001b[0m \u001b[31m14.1 MB/s\u001b[0m eta \u001b[36m0:00:00\u001b[0m\n",
            "\u001b[?25hRequirement already satisfied: regex>=2021.8.3 in /usr/local/lib/python3.8/dist-packages (from nltk) (2022.6.2)\n",
            "Requirement already satisfied: joblib in /usr/local/lib/python3.8/dist-packages (from nltk) (1.2.0)\n",
            "Requirement already satisfied: tqdm in /usr/local/lib/python3.8/dist-packages (from nltk) (4.64.1)\n",
            "Requirement already satisfied: click in /usr/local/lib/python3.8/dist-packages (from nltk) (8.1.3)\n",
            "Installing collected packages: nltk\n",
            "\u001b[33m  WARNING: The script nltk is installed in '/root/.local/bin' which is not on PATH.\n",
            "  Consider adding this directory to PATH or, if you prefer to suppress this warning, use --no-warn-script-location.\u001b[0m\u001b[33m\n",
            "\u001b[0mSuccessfully installed nltk-3.8.1\n"
          ]
        }
      ]
    },
    {
      "cell_type": "markdown",
      "source": [
        "## Synonym sets containing \"good\""
      ],
      "metadata": {
        "id": "t1bef7U7VOPH"
      }
    },
    {
      "cell_type": "code",
      "source": [
        "import nltk\n",
        "nltk.download('omw-1.4')"
      ],
      "metadata": {
        "colab": {
          "base_uri": "https://localhost:8080/"
        },
        "id": "f4YYXaRiU4Lb",
        "outputId": "6c62c87d-dcc0-4dfe-bcdb-5d1219b671c9"
      },
      "execution_count": null,
      "outputs": [
        {
          "output_type": "stream",
          "name": "stderr",
          "text": [
            "[nltk_data] Downloading package omw-1.4 to /root/nltk_data...\n"
          ]
        },
        {
          "output_type": "execute_result",
          "data": {
            "text/plain": [
              "True"
            ]
          },
          "metadata": {},
          "execution_count": 5
        }
      ]
    },
    {
      "cell_type": "code",
      "execution_count": null,
      "metadata": {
        "id": "13VKg-XoRVKn",
        "colab": {
          "base_uri": "https://localhost:8080/"
        },
        "outputId": "76f4e229-9b41-420a-ec59-69c1d6beb19c"
      },
      "outputs": [
        {
          "output_type": "stream",
          "name": "stdout",
          "text": [
            "noun: good\n",
            "noun: good, goodness\n",
            "noun: good, goodness\n",
            "noun: commodity, trade_good, good\n",
            "adj: good\n",
            "adj (s): full, good\n",
            "adj: good\n",
            "adj (s): estimable, good, honorable, respectable\n",
            "adj (s): beneficial, good\n",
            "adj (s): good\n",
            "adj (s): good, just, upright\n",
            "adj (s): adept, expert, good, practiced, proficient, skillful, skilful\n",
            "adj (s): good\n",
            "adj (s): dear, good, near\n",
            "adj (s): dependable, good, safe, secure\n",
            "adj (s): good, right, ripe\n",
            "adj (s): good, well\n",
            "adj (s): effective, good, in_effect, in_force\n",
            "adj (s): good\n",
            "adj (s): good, serious\n",
            "adj (s): good, sound\n",
            "adj (s): good, salutary\n",
            "adj (s): good, honest\n",
            "adj (s): good, undecomposed, unspoiled, unspoilt\n",
            "adj (s): good\n",
            "adv: well, good\n",
            "adv: thoroughly, soundly, good\n"
          ]
        }
      ],
      "source": [
        "from nltk.corpus import wordnet as wn\n",
        "\n",
        "pos = { \"n\": 'noun',\n",
        "       \"v\" : 'verb',\n",
        "       \"s\" : 'adj (s)',\n",
        "       \"a\" : 'adj',\n",
        "       \"r\" : 'adv'}\n",
        "\n",
        "for synset in wn.synsets(\"good\"):\n",
        "  print('{}: {}'.format(\n",
        "      pos[synset.pos()],\n",
        "      ', '.join([l.name() for l in synset.lemmas()])\n",
        "  ))"
      ]
    },
    {
      "cell_type": "markdown",
      "source": [
        "## Hypernyms of \"pandas\""
      ],
      "metadata": {
        "id": "lcj4s8IGVWUg"
      }
    },
    {
      "cell_type": "code",
      "source": [
        "from nltk.corpus import wordnet as wn\n",
        "panda = wn.synset(\"panda.n.01\")\n",
        "hyper = lambda s: s.hypernyms()\n",
        "list(panda.closure(hyper)) "
      ],
      "metadata": {
        "id": "icbuc0kjRuCV",
        "colab": {
          "base_uri": "https://localhost:8080/"
        },
        "outputId": "879800af-5394-484e-c588-73a5bbd434f1"
      },
      "execution_count": null,
      "outputs": [
        {
          "output_type": "execute_result",
          "data": {
            "text/plain": [
              "[Synset('procyonid.n.01'),\n",
              " Synset('carnivore.n.01'),\n",
              " Synset('placental.n.01'),\n",
              " Synset('mammal.n.01'),\n",
              " Synset('vertebrate.n.01'),\n",
              " Synset('chordate.n.01'),\n",
              " Synset('animal.n.01'),\n",
              " Synset('organism.n.01'),\n",
              " Synset('living_thing.n.01'),\n",
              " Synset('whole.n.02'),\n",
              " Synset('object.n.01'),\n",
              " Synset('physical_entity.n.01'),\n",
              " Synset('entity.n.01')]"
            ]
          },
          "metadata": {},
          "execution_count": 13
        }
      ]
    },
    {
      "cell_type": "markdown",
      "source": [
        "Have fun with WordNet!"
      ],
      "metadata": {
        "id": "XaJPse6GWN3E"
      }
    }
  ]
}